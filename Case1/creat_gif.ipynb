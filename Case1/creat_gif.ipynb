{
 "cells": [
  {
   "cell_type": "code",
   "execution_count": 4,
   "metadata": {},
   "outputs": [
    {
     "name": "stdout",
     "output_type": "stream",
     "text": [
      "C:\\Users\\Ashen\\Desktop\\Topology\\Case1\\images\\0.png\n",
      "C:\\Users\\Ashen\\Desktop\\Topology\\Case1\\images\\1.png\n",
      "C:\\Users\\Ashen\\Desktop\\Topology\\Case1\\images\\2.png\n",
      "C:\\Users\\Ashen\\Desktop\\Topology\\Case1\\images\\3.png\n",
      "C:\\Users\\Ashen\\Desktop\\Topology\\Case1\\images\\4.png\n",
      "C:\\Users\\Ashen\\Desktop\\Topology\\Case1\\images\\5.png\n",
      "C:\\Users\\Ashen\\Desktop\\Topology\\Case1\\images\\6.png\n",
      "C:\\Users\\Ashen\\Desktop\\Topology\\Case1\\images\\7.png\n",
      "C:\\Users\\Ashen\\Desktop\\Topology\\Case1\\images\\8.png\n",
      "C:\\Users\\Ashen\\Desktop\\Topology\\Case1\\images\\9.png\n",
      "C:\\Users\\Ashen\\Desktop\\Topology\\Case1\\images\\10.png\n",
      "C:\\Users\\Ashen\\Desktop\\Topology\\Case1\\images\\11.png\n"
     ]
    }
   ],
   "source": [
    "import imageio\n",
    "import os\n",
    "def compose_gif():\n",
    "    img_paths = os.listdir('C:\\\\Users\\Ashen\\\\Desktop\\\\Topology\\\\Case1\\\\images') \n",
    "    img_paths.sort(key=lambda x:int(x.split('.')[0]))\n",
    "    gif_images = []\n",
    "    for path in img_paths:\n",
    "        path='C:\\\\Users\\Ashen\\\\Desktop\\\\Topology\\\\Case1\\\\images\\\\'+path\n",
    "        gif_images.append(imageio.v3.imread(path))\n",
    "        print(path)\n",
    "    imageio.mimsave(\"C:/Users/Ashen/Desktop/test.gif\",gif_images,'GIF',fps=3,loop=0)\n",
    "compose_gif()"
   ]
  }
 ],
 "metadata": {
  "kernelspec": {
   "display_name": "Python 3",
   "language": "python",
   "name": "python3"
  },
  "language_info": {
   "codemirror_mode": {
    "name": "ipython",
    "version": 3
   },
   "file_extension": ".py",
   "mimetype": "text/x-python",
   "name": "python",
   "nbconvert_exporter": "python",
   "pygments_lexer": "ipython3",
   "version": "3.9.12"
  }
 },
 "nbformat": 4,
 "nbformat_minor": 2
}
